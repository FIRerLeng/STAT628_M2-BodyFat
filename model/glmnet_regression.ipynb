{
 "cells": [
  {
   "cell_type": "code",
   "execution_count": 1,
   "id": "b4b844b6",
   "metadata": {},
   "outputs": [
    {
     "name": "stderr",
     "output_type": "stream",
     "text": [
      "Loading required package: glmnet\n",
      "\n",
      "Loading required package: Matrix\n",
      "\n",
      "Loaded glmnet 4.1-2\n",
      "\n"
     ]
    }
   ],
   "source": [
    "require(\"glmnet\")"
   ]
  },
  {
   "cell_type": "code",
   "execution_count": 2,
   "id": "f2e4f6ec",
   "metadata": {},
   "outputs": [],
   "source": [
    "train <- read.csv('/afs/cs.wisc.edu/u/l/e/leng/private/STAT628-M2/Train.csv', header = TRUE, row.names = 1)\n",
    "test <- read.csv('/afs/cs.wisc.edu/u/l/e/leng/private/STAT628-M2/Test.csv', header = TRUE, row.names = 1)"
   ]
  },
  {
   "cell_type": "code",
   "execution_count": 3,
   "id": "d0f61310",
   "metadata": {},
   "outputs": [
    {
     "data": {
      "text/html": [
       "<table class=\"dataframe\">\n",
       "<caption>A data.frame: 6 × 16</caption>\n",
       "<thead>\n",
       "\t<tr><th></th><th scope=col>DENSITY</th><th scope=col>AGE</th><th scope=col>WEIGHT</th><th scope=col>HEIGHT</th><th scope=col>ADIPOSITY</th><th scope=col>NECK</th><th scope=col>CHEST</th><th scope=col>ABDOMEN</th><th scope=col>HIP</th><th scope=col>THIGH</th><th scope=col>KNEE</th><th scope=col>ANKLE</th><th scope=col>BICEPS</th><th scope=col>FOREARM</th><th scope=col>WRIST</th><th scope=col>BODYFAT</th></tr>\n",
       "\t<tr><th></th><th scope=col>&lt;dbl&gt;</th><th scope=col>&lt;dbl&gt;</th><th scope=col>&lt;dbl&gt;</th><th scope=col>&lt;dbl&gt;</th><th scope=col>&lt;dbl&gt;</th><th scope=col>&lt;dbl&gt;</th><th scope=col>&lt;dbl&gt;</th><th scope=col>&lt;dbl&gt;</th><th scope=col>&lt;dbl&gt;</th><th scope=col>&lt;dbl&gt;</th><th scope=col>&lt;dbl&gt;</th><th scope=col>&lt;dbl&gt;</th><th scope=col>&lt;dbl&gt;</th><th scope=col>&lt;dbl&gt;</th><th scope=col>&lt;dbl&gt;</th><th scope=col>&lt;dbl&gt;</th></tr>\n",
       "</thead>\n",
       "<tbody>\n",
       "\t<tr><th scope=row>0</th><td> 1.1993862</td><td>-1.2446088</td><td>-0.58693843</td><td>-0.5063531</td><td>-0.3800723</td><td>-0.474835195</td><td>-0.3397599</td><td>-0.8237111</td><td>-0.09546210</td><td>-0.03107795</td><td>-1.3438442</td><td>-0.2421628</td><td>-0.6815004</td><td>-0.99719172</td><td>-0.6225535</td><td> 9.4</td></tr>\n",
       "\t<tr><th scope=row>1</th><td> 0.1886404</td><td>-0.6886836</td><td>-0.01265434</td><td> 0.4452692</td><td>-0.2162775</td><td> 0.394002986</td><td>-0.2376379</td><td>-0.1360909</td><td> 0.09683674</td><td> 0.02822586</td><td>-0.2898806</td><td>-1.0718366</td><td> 0.1049640</td><td>-0.09322521</td><td>-0.4012419</td><td>16.8</td></tr>\n",
       "\t<tr><th scope=row>2</th><td> 0.5561843</td><td> 0.5025849</td><td> 0.08923477</td><td> 0.6355937</td><td>-0.2162775</td><td> 1.393166894</td><td>-0.1099853</td><td>-0.1664271</td><td>-0.46403488</td><td>-0.44620467</td><td> 0.1931861</td><td> 0.2858114</td><td> 0.4469050</td><td> 0.65121780</td><td> 1.4799070</td><td>14.1</td></tr>\n",
       "\t<tr><th scope=row>3</th><td>-0.5734728</td><td>-0.1327583</td><td>-0.21643257</td><td>-1.0773265</td><td> 0.4716608</td><td>-0.170741832</td><td> 0.4644511</td><td>-0.1967633</td><td>-0.81658276</td><td>-0.11014971</td><td> 0.2810164</td><td> 0.8892105</td><td> 0.5836814</td><td> 0.11947279</td><td> 0.7053163</td><td>22.6</td></tr>\n",
       "\t<tr><th scope=row>4</th><td> 1.3291076</td><td>-0.4504299</td><td>-1.90223424</td><td>-0.8870020</td><td>-1.9197437</td><td>-2.733814465</td><td>-1.9098861</td><td>-1.5821158</td><td>-1.77807697</td><td>-1.79042453</td><td>-1.6073351</td><td>-1.4489610</td><td>-2.0492645</td><td>-2.91147375</td><td>-2.2823908</td><td> 8.4</td></tr>\n",
       "\t<tr><th scope=row>5</th><td> 1.8263730</td><td>-0.2121762</td><td>-1.49467779</td><td>-1.0773265</td><td>-1.2645644</td><td> 0.003025805</td><td>-1.5907548</td><td>-1.4203228</td><td>-1.71397735</td><td>-1.41483369</td><td>-1.5195048</td><td>-0.3175877</td><td>-1.5021589</td><td>-0.57179572</td><td> 0.3733488</td><td> 4.9</td></tr>\n",
       "</tbody>\n",
       "</table>\n"
      ],
      "text/latex": [
       "A data.frame: 6 × 16\n",
       "\\begin{tabular}{r|llllllllllllllll}\n",
       "  & DENSITY & AGE & WEIGHT & HEIGHT & ADIPOSITY & NECK & CHEST & ABDOMEN & HIP & THIGH & KNEE & ANKLE & BICEPS & FOREARM & WRIST & BODYFAT\\\\\n",
       "  & <dbl> & <dbl> & <dbl> & <dbl> & <dbl> & <dbl> & <dbl> & <dbl> & <dbl> & <dbl> & <dbl> & <dbl> & <dbl> & <dbl> & <dbl> & <dbl>\\\\\n",
       "\\hline\n",
       "\t0 &  1.1993862 & -1.2446088 & -0.58693843 & -0.5063531 & -0.3800723 & -0.474835195 & -0.3397599 & -0.8237111 & -0.09546210 & -0.03107795 & -1.3438442 & -0.2421628 & -0.6815004 & -0.99719172 & -0.6225535 &  9.4\\\\\n",
       "\t1 &  0.1886404 & -0.6886836 & -0.01265434 &  0.4452692 & -0.2162775 &  0.394002986 & -0.2376379 & -0.1360909 &  0.09683674 &  0.02822586 & -0.2898806 & -1.0718366 &  0.1049640 & -0.09322521 & -0.4012419 & 16.8\\\\\n",
       "\t2 &  0.5561843 &  0.5025849 &  0.08923477 &  0.6355937 & -0.2162775 &  1.393166894 & -0.1099853 & -0.1664271 & -0.46403488 & -0.44620467 &  0.1931861 &  0.2858114 &  0.4469050 &  0.65121780 &  1.4799070 & 14.1\\\\\n",
       "\t3 & -0.5734728 & -0.1327583 & -0.21643257 & -1.0773265 &  0.4716608 & -0.170741832 &  0.4644511 & -0.1967633 & -0.81658276 & -0.11014971 &  0.2810164 &  0.8892105 &  0.5836814 &  0.11947279 &  0.7053163 & 22.6\\\\\n",
       "\t4 &  1.3291076 & -0.4504299 & -1.90223424 & -0.8870020 & -1.9197437 & -2.733814465 & -1.9098861 & -1.5821158 & -1.77807697 & -1.79042453 & -1.6073351 & -1.4489610 & -2.0492645 & -2.91147375 & -2.2823908 &  8.4\\\\\n",
       "\t5 &  1.8263730 & -0.2121762 & -1.49467779 & -1.0773265 & -1.2645644 &  0.003025805 & -1.5907548 & -1.4203228 & -1.71397735 & -1.41483369 & -1.5195048 & -0.3175877 & -1.5021589 & -0.57179572 &  0.3733488 &  4.9\\\\\n",
       "\\end{tabular}\n"
      ],
      "text/markdown": [
       "\n",
       "A data.frame: 6 × 16\n",
       "\n",
       "| <!--/--> | DENSITY &lt;dbl&gt; | AGE &lt;dbl&gt; | WEIGHT &lt;dbl&gt; | HEIGHT &lt;dbl&gt; | ADIPOSITY &lt;dbl&gt; | NECK &lt;dbl&gt; | CHEST &lt;dbl&gt; | ABDOMEN &lt;dbl&gt; | HIP &lt;dbl&gt; | THIGH &lt;dbl&gt; | KNEE &lt;dbl&gt; | ANKLE &lt;dbl&gt; | BICEPS &lt;dbl&gt; | FOREARM &lt;dbl&gt; | WRIST &lt;dbl&gt; | BODYFAT &lt;dbl&gt; |\n",
       "|---|---|---|---|---|---|---|---|---|---|---|---|---|---|---|---|---|\n",
       "| 0 |  1.1993862 | -1.2446088 | -0.58693843 | -0.5063531 | -0.3800723 | -0.474835195 | -0.3397599 | -0.8237111 | -0.09546210 | -0.03107795 | -1.3438442 | -0.2421628 | -0.6815004 | -0.99719172 | -0.6225535 |  9.4 |\n",
       "| 1 |  0.1886404 | -0.6886836 | -0.01265434 |  0.4452692 | -0.2162775 |  0.394002986 | -0.2376379 | -0.1360909 |  0.09683674 |  0.02822586 | -0.2898806 | -1.0718366 |  0.1049640 | -0.09322521 | -0.4012419 | 16.8 |\n",
       "| 2 |  0.5561843 |  0.5025849 |  0.08923477 |  0.6355937 | -0.2162775 |  1.393166894 | -0.1099853 | -0.1664271 | -0.46403488 | -0.44620467 |  0.1931861 |  0.2858114 |  0.4469050 |  0.65121780 |  1.4799070 | 14.1 |\n",
       "| 3 | -0.5734728 | -0.1327583 | -0.21643257 | -1.0773265 |  0.4716608 | -0.170741832 |  0.4644511 | -0.1967633 | -0.81658276 | -0.11014971 |  0.2810164 |  0.8892105 |  0.5836814 |  0.11947279 |  0.7053163 | 22.6 |\n",
       "| 4 |  1.3291076 | -0.4504299 | -1.90223424 | -0.8870020 | -1.9197437 | -2.733814465 | -1.9098861 | -1.5821158 | -1.77807697 | -1.79042453 | -1.6073351 | -1.4489610 | -2.0492645 | -2.91147375 | -2.2823908 |  8.4 |\n",
       "| 5 |  1.8263730 | -0.2121762 | -1.49467779 | -1.0773265 | -1.2645644 |  0.003025805 | -1.5907548 | -1.4203228 | -1.71397735 | -1.41483369 | -1.5195048 | -0.3175877 | -1.5021589 | -0.57179572 |  0.3733488 |  4.9 |\n",
       "\n"
      ],
      "text/plain": [
       "  DENSITY    AGE        WEIGHT      HEIGHT     ADIPOSITY  NECK        \n",
       "0  1.1993862 -1.2446088 -0.58693843 -0.5063531 -0.3800723 -0.474835195\n",
       "1  0.1886404 -0.6886836 -0.01265434  0.4452692 -0.2162775  0.394002986\n",
       "2  0.5561843  0.5025849  0.08923477  0.6355937 -0.2162775  1.393166894\n",
       "3 -0.5734728 -0.1327583 -0.21643257 -1.0773265  0.4716608 -0.170741832\n",
       "4  1.3291076 -0.4504299 -1.90223424 -0.8870020 -1.9197437 -2.733814465\n",
       "5  1.8263730 -0.2121762 -1.49467779 -1.0773265 -1.2645644  0.003025805\n",
       "  CHEST      ABDOMEN    HIP         THIGH       KNEE       ANKLE     \n",
       "0 -0.3397599 -0.8237111 -0.09546210 -0.03107795 -1.3438442 -0.2421628\n",
       "1 -0.2376379 -0.1360909  0.09683674  0.02822586 -0.2898806 -1.0718366\n",
       "2 -0.1099853 -0.1664271 -0.46403488 -0.44620467  0.1931861  0.2858114\n",
       "3  0.4644511 -0.1967633 -0.81658276 -0.11014971  0.2810164  0.8892105\n",
       "4 -1.9098861 -1.5821158 -1.77807697 -1.79042453 -1.6073351 -1.4489610\n",
       "5 -1.5907548 -1.4203228 -1.71397735 -1.41483369 -1.5195048 -0.3175877\n",
       "  BICEPS     FOREARM     WRIST      BODYFAT\n",
       "0 -0.6815004 -0.99719172 -0.6225535  9.4   \n",
       "1  0.1049640 -0.09322521 -0.4012419 16.8   \n",
       "2  0.4469050  0.65121780  1.4799070 14.1   \n",
       "3  0.5836814  0.11947279  0.7053163 22.6   \n",
       "4 -2.0492645 -2.91147375 -2.2823908  8.4   \n",
       "5 -1.5021589 -0.57179572  0.3733488  4.9   "
      ]
     },
     "metadata": {},
     "output_type": "display_data"
    }
   ],
   "source": [
    "head(train)"
   ]
  },
  {
   "cell_type": "code",
   "execution_count": 4,
   "id": "11418667",
   "metadata": {},
   "outputs": [],
   "source": [
    "# linear regression with lasso penalty(no regularization on weight&heights)\n",
    "penalty = c(1, 0, 0, 1, 1, 1, 1, 1, 1, 1, 1, 1, 1, 1)\n",
    "clf <- cv.glmnet(data.matrix(train[, 2:15]), as.vector(train[, 16]), family = 'gaussian', alpha = 1, nfolds = 5, standarize = FALSE, penalty.factor = penalty)"
   ]
  },
  {
   "cell_type": "code",
   "execution_count": 5,
   "id": "c79b63c4",
   "metadata": {},
   "outputs": [
    {
     "data": {
      "text/html": [
       "<dl>\n",
       "\t<dt>$mse</dt>\n",
       "\t\t<dd><strong>lambda.min:</strong> 24.155061514192</dd>\n",
       "\t<dt>$mae</dt>\n",
       "\t\t<dd><strong>lambda.min:</strong> 3.89955101755134</dd>\n",
       "</dl>\n"
      ],
      "text/latex": [
       "\\begin{description}\n",
       "\\item[\\$mse] \\textbf{lambda.min:} 24.155061514192\n",
       "\\item[\\$mae] \\textbf{lambda.min:} 3.89955101755134\n",
       "\\end{description}\n"
      ],
      "text/markdown": [
       "$mse\n",
       ":   **lambda.min:** 24.155061514192\n",
       "$mae\n",
       ":   **lambda.min:** 3.89955101755134\n",
       "\n",
       "\n"
      ],
      "text/plain": [
       "$mse\n",
       "lambda.min \n",
       "  24.15506 \n",
       "attr(,\"measure\")\n",
       "[1] \"Mean-Squared Error\"\n",
       "\n",
       "$mae\n",
       "lambda.min \n",
       "  3.899551 \n",
       "attr(,\"measure\")\n",
       "[1] \"Mean Absolute Error\"\n"
      ]
     },
     "metadata": {},
     "output_type": "display_data"
    }
   ],
   "source": [
    "pred <- predict(clf, newx = data.matrix(test[, 2:15]), type = 'link', s = 'lambda.min')\n",
    "coef_sum <- coef(clf, s = 'lambda.min')\n",
    "assess.glmnet(clf, newx = data.matrix(test[, 2:15]), newy = as.vector(test[, 16]), s = 'lambda.min')"
   ]
  },
  {
   "cell_type": "code",
   "execution_count": 6,
   "id": "ec0cc8d9",
   "metadata": {},
   "outputs": [
    {
     "data": {
      "text/plain": [
       "15 x 1 sparse Matrix of class \"dgCMatrix\"\n",
       "                    s1\n",
       "(Intercept) 18.4839956\n",
       "AGE          1.5638946\n",
       "WEIGHT       3.1023656\n",
       "HEIGHT       0.4009115\n",
       "ADIPOSITY    3.2049412\n",
       "NECK        -1.4175940\n",
       "CHEST       -3.2060826\n",
       "ABDOMEN      5.6410388\n",
       "HIP         -3.0377235\n",
       "THIGH        1.3772475\n",
       "KNEE         0.2025441\n",
       "ANKLE       -0.3524515\n",
       "BICEPS       0.3399989\n",
       "FOREARM      0.1290761\n",
       "WRIST       -1.4385721"
      ]
     },
     "metadata": {},
     "output_type": "display_data"
    }
   ],
   "source": [
    "coef_sum"
   ]
  },
  {
   "cell_type": "code",
   "execution_count": 7,
   "id": "2d0c8275",
   "metadata": {},
   "outputs": [],
   "source": [
    "df <- data.frame(y_true = as.vector(test[, 16]), y_pred = as.vector(pred[, 1]))"
   ]
  },
  {
   "cell_type": "markdown",
   "id": "dd43c109",
   "metadata": {},
   "source": [
    "extract top features"
   ]
  },
  {
   "cell_type": "code",
   "execution_count": 8,
   "id": "87a07e54",
   "metadata": {},
   "outputs": [
    {
     "data": {
      "text/html": [
       "<table class=\"dataframe\">\n",
       "<caption>A data.frame: 15 × 2</caption>\n",
       "<thead>\n",
       "\t<tr><th></th><th scope=col>s1</th><th scope=col>abs</th></tr>\n",
       "\t<tr><th></th><th scope=col>&lt;dbl&gt;</th><th scope=col>&lt;dbl&gt;</th></tr>\n",
       "</thead>\n",
       "<tbody>\n",
       "\t<tr><th scope=row>(Intercept)</th><td>18.4839956</td><td>18.4839956</td></tr>\n",
       "\t<tr><th scope=row>ABDOMEN</th><td> 5.6410388</td><td> 5.6410388</td></tr>\n",
       "\t<tr><th scope=row>CHEST</th><td>-3.2060826</td><td> 3.2060826</td></tr>\n",
       "\t<tr><th scope=row>ADIPOSITY</th><td> 3.2049412</td><td> 3.2049412</td></tr>\n",
       "\t<tr><th scope=row>WEIGHT</th><td> 3.1023656</td><td> 3.1023656</td></tr>\n",
       "\t<tr><th scope=row>HIP</th><td>-3.0377235</td><td> 3.0377235</td></tr>\n",
       "\t<tr><th scope=row>AGE</th><td> 1.5638946</td><td> 1.5638946</td></tr>\n",
       "\t<tr><th scope=row>WRIST</th><td>-1.4385721</td><td> 1.4385721</td></tr>\n",
       "\t<tr><th scope=row>NECK</th><td>-1.4175940</td><td> 1.4175940</td></tr>\n",
       "\t<tr><th scope=row>THIGH</th><td> 1.3772475</td><td> 1.3772475</td></tr>\n",
       "\t<tr><th scope=row>HEIGHT</th><td> 0.4009115</td><td> 0.4009115</td></tr>\n",
       "\t<tr><th scope=row>ANKLE</th><td>-0.3524515</td><td> 0.3524515</td></tr>\n",
       "\t<tr><th scope=row>BICEPS</th><td> 0.3399989</td><td> 0.3399989</td></tr>\n",
       "\t<tr><th scope=row>KNEE</th><td> 0.2025441</td><td> 0.2025441</td></tr>\n",
       "\t<tr><th scope=row>FOREARM</th><td> 0.1290761</td><td> 0.1290761</td></tr>\n",
       "</tbody>\n",
       "</table>\n"
      ],
      "text/latex": [
       "A data.frame: 15 × 2\n",
       "\\begin{tabular}{r|ll}\n",
       "  & s1 & abs\\\\\n",
       "  & <dbl> & <dbl>\\\\\n",
       "\\hline\n",
       "\t(Intercept) & 18.4839956 & 18.4839956\\\\\n",
       "\tABDOMEN &  5.6410388 &  5.6410388\\\\\n",
       "\tCHEST & -3.2060826 &  3.2060826\\\\\n",
       "\tADIPOSITY &  3.2049412 &  3.2049412\\\\\n",
       "\tWEIGHT &  3.1023656 &  3.1023656\\\\\n",
       "\tHIP & -3.0377235 &  3.0377235\\\\\n",
       "\tAGE &  1.5638946 &  1.5638946\\\\\n",
       "\tWRIST & -1.4385721 &  1.4385721\\\\\n",
       "\tNECK & -1.4175940 &  1.4175940\\\\\n",
       "\tTHIGH &  1.3772475 &  1.3772475\\\\\n",
       "\tHEIGHT &  0.4009115 &  0.4009115\\\\\n",
       "\tANKLE & -0.3524515 &  0.3524515\\\\\n",
       "\tBICEPS &  0.3399989 &  0.3399989\\\\\n",
       "\tKNEE &  0.2025441 &  0.2025441\\\\\n",
       "\tFOREARM &  0.1290761 &  0.1290761\\\\\n",
       "\\end{tabular}\n"
      ],
      "text/markdown": [
       "\n",
       "A data.frame: 15 × 2\n",
       "\n",
       "| <!--/--> | s1 &lt;dbl&gt; | abs &lt;dbl&gt; |\n",
       "|---|---|---|\n",
       "| (Intercept) | 18.4839956 | 18.4839956 |\n",
       "| ABDOMEN |  5.6410388 |  5.6410388 |\n",
       "| CHEST | -3.2060826 |  3.2060826 |\n",
       "| ADIPOSITY |  3.2049412 |  3.2049412 |\n",
       "| WEIGHT |  3.1023656 |  3.1023656 |\n",
       "| HIP | -3.0377235 |  3.0377235 |\n",
       "| AGE |  1.5638946 |  1.5638946 |\n",
       "| WRIST | -1.4385721 |  1.4385721 |\n",
       "| NECK | -1.4175940 |  1.4175940 |\n",
       "| THIGH |  1.3772475 |  1.3772475 |\n",
       "| HEIGHT |  0.4009115 |  0.4009115 |\n",
       "| ANKLE | -0.3524515 |  0.3524515 |\n",
       "| BICEPS |  0.3399989 |  0.3399989 |\n",
       "| KNEE |  0.2025441 |  0.2025441 |\n",
       "| FOREARM |  0.1290761 |  0.1290761 |\n",
       "\n"
      ],
      "text/plain": [
       "            s1         abs       \n",
       "(Intercept) 18.4839956 18.4839956\n",
       "ABDOMEN      5.6410388  5.6410388\n",
       "CHEST       -3.2060826  3.2060826\n",
       "ADIPOSITY    3.2049412  3.2049412\n",
       "WEIGHT       3.1023656  3.1023656\n",
       "HIP         -3.0377235  3.0377235\n",
       "AGE          1.5638946  1.5638946\n",
       "WRIST       -1.4385721  1.4385721\n",
       "NECK        -1.4175940  1.4175940\n",
       "THIGH        1.3772475  1.3772475\n",
       "HEIGHT       0.4009115  0.4009115\n",
       "ANKLE       -0.3524515  0.3524515\n",
       "BICEPS       0.3399989  0.3399989\n",
       "KNEE         0.2025441  0.2025441\n",
       "FOREARM      0.1290761  0.1290761"
      ]
     },
     "metadata": {},
     "output_type": "display_data"
    }
   ],
   "source": [
    "coef_sum <- coef(clf, s = 'lambda.min')\n",
    "coef_sum <-  as.data.frame(as.matrix(coef_sum))\n",
    "coef_sum$abs <- abs(as.vector(coef_sum[, 1]))\n",
    "coef_sum[order(coef_sum$abs,decreasing=TRUE),]"
   ]
  },
  {
   "cell_type": "code",
   "execution_count": 9,
   "id": "e19ee8d2",
   "metadata": {},
   "outputs": [
    {
     "data": {
      "text/plain": [
       "7 x 1 sparse Matrix of class \"dgCMatrix\"\n",
       "                     s1\n",
       "(Intercept) 18.48399557\n",
       "WEIGHT       0.24502272\n",
       "HEIGHT      -0.02398069\n",
       "CHEST       -2.22855554\n",
       "ABDOMEN      6.27923856\n",
       "ADIPOSITY    2.16418219\n",
       "HIP         -1.12502584"
      ]
     },
     "metadata": {},
     "output_type": "display_data"
    }
   ],
   "source": [
    "clf_ <- cv.glmnet(data.matrix(train[, c('WEIGHT', 'HEIGHT', 'CHEST', 'ABDOMEN', 'ADIPOSITY', 'HIP')]), as.vector(train[, 16]), family = 'gaussian', alpha = 1, nfolds = 5, standarize = FALSE)\n",
    "pred_ <- predict(clf_, newx = data.matrix(test[, c('WEIGHT', 'HEIGHT', 'CHEST', 'ABDOMEN', 'ADIPOSITY', 'HIP')]), type = 'link', s = 'lambda.min')\n",
    "coef_sum_ <- coef(clf_, s = 'lambda.min')\n",
    "coef_sum_"
   ]
  },
  {
   "cell_type": "code",
   "execution_count": 10,
   "id": "a874926e",
   "metadata": {},
   "outputs": [
    {
     "data": {
      "text/html": [
       "<dl>\n",
       "\t<dt>$mse</dt>\n",
       "\t\t<dd><strong>lambda.min:</strong> 23.3666922979895</dd>\n",
       "\t<dt>$mae</dt>\n",
       "\t\t<dd><strong>lambda.min:</strong> 3.86175487130626</dd>\n",
       "</dl>\n"
      ],
      "text/latex": [
       "\\begin{description}\n",
       "\\item[\\$mse] \\textbf{lambda.min:} 23.3666922979895\n",
       "\\item[\\$mae] \\textbf{lambda.min:} 3.86175487130626\n",
       "\\end{description}\n"
      ],
      "text/markdown": [
       "$mse\n",
       ":   **lambda.min:** 23.3666922979895\n",
       "$mae\n",
       ":   **lambda.min:** 3.86175487130626\n",
       "\n",
       "\n"
      ],
      "text/plain": [
       "$mse\n",
       "lambda.min \n",
       "  23.36669 \n",
       "attr(,\"measure\")\n",
       "[1] \"Mean-Squared Error\"\n",
       "\n",
       "$mae\n",
       "lambda.min \n",
       "  3.861755 \n",
       "attr(,\"measure\")\n",
       "[1] \"Mean Absolute Error\"\n"
      ]
     },
     "metadata": {},
     "output_type": "display_data"
    }
   ],
   "source": [
    "assess.glmnet(clf_, newx = data.matrix(test[, c('WEIGHT', 'HEIGHT', 'CHEST', 'ABDOMEN', 'ADIPOSITY', 'HIP')]), newy = as.vector(test[, 16]), s = 'lambda.min')"
   ]
  },
  {
   "cell_type": "code",
   "execution_count": 11,
   "id": "0066d472",
   "metadata": {},
   "outputs": [
    {
     "data": {
      "text/html": [
       "<table class=\"dataframe\">\n",
       "<caption>A data.frame: 6 × 3</caption>\n",
       "<thead>\n",
       "\t<tr><th></th><th scope=col>y_true</th><th scope=col>y_pred</th><th scope=col>y_pred_new</th></tr>\n",
       "\t<tr><th></th><th scope=col>&lt;dbl&gt;</th><th scope=col>&lt;dbl&gt;</th><th scope=col>&lt;dbl[,1]&gt;</th></tr>\n",
       "</thead>\n",
       "<tbody>\n",
       "\t<tr><th scope=row>1</th><td>25.8</td><td>21.19347</td><td>18.81297</td></tr>\n",
       "\t<tr><th scope=row>2</th><td>19.1</td><td>26.00687</td><td>25.18598</td></tr>\n",
       "\t<tr><th scope=row>3</th><td>33.8</td><td>20.05067</td><td>19.53229</td></tr>\n",
       "\t<tr><th scope=row>4</th><td> 6.8</td><td>15.00920</td><td>15.20204</td></tr>\n",
       "\t<tr><th scope=row>5</th><td>19.8</td><td>18.82334</td><td>17.54107</td></tr>\n",
       "\t<tr><th scope=row>6</th><td>20.2</td><td>20.81652</td><td>21.12673</td></tr>\n",
       "</tbody>\n",
       "</table>\n"
      ],
      "text/latex": [
       "A data.frame: 6 × 3\n",
       "\\begin{tabular}{r|lll}\n",
       "  & y\\_true & y\\_pred & y\\_pred\\_new\\\\\n",
       "  & <dbl> & <dbl> & <dbl{[},1{]}>\\\\\n",
       "\\hline\n",
       "\t1 & 25.8 & 21.19347 & 18.81297\\\\\n",
       "\t2 & 19.1 & 26.00687 & 25.18598\\\\\n",
       "\t3 & 33.8 & 20.05067 & 19.53229\\\\\n",
       "\t4 &  6.8 & 15.00920 & 15.20204\\\\\n",
       "\t5 & 19.8 & 18.82334 & 17.54107\\\\\n",
       "\t6 & 20.2 & 20.81652 & 21.12673\\\\\n",
       "\\end{tabular}\n"
      ],
      "text/markdown": [
       "\n",
       "A data.frame: 6 × 3\n",
       "\n",
       "| <!--/--> | y_true &lt;dbl&gt; | y_pred &lt;dbl&gt; | y_pred_new &lt;dbl[,1]&gt; |\n",
       "|---|---|---|---|\n",
       "| 1 | 25.8 | 21.19347 | 18.81297 |\n",
       "| 2 | 19.1 | 26.00687 | 25.18598 |\n",
       "| 3 | 33.8 | 20.05067 | 19.53229 |\n",
       "| 4 |  6.8 | 15.00920 | 15.20204 |\n",
       "| 5 | 19.8 | 18.82334 | 17.54107 |\n",
       "| 6 | 20.2 | 20.81652 | 21.12673 |\n",
       "\n"
      ],
      "text/plain": [
       "  y_true y_pred   y_pred_new\n",
       "1 25.8   21.19347 18.81297  \n",
       "2 19.1   26.00687 25.18598  \n",
       "3 33.8   20.05067 19.53229  \n",
       "4  6.8   15.00920 15.20204  \n",
       "5 19.8   18.82334 17.54107  \n",
       "6 20.2   20.81652 21.12673  "
      ]
     },
     "metadata": {},
     "output_type": "display_data"
    }
   ],
   "source": [
    "df$y_pred_new <- pred_\n",
    "head(df)"
   ]
  },
  {
   "cell_type": "code",
   "execution_count": 12,
   "id": "4843471a",
   "metadata": {},
   "outputs": [
    {
     "data": {
      "image/png": "[encoded data removed]",
      "text/plain": [
       "plot without title"
      ]
     },
     "metadata": {
      "image/png": {
       "height": 420,
       "width": 420
      }
     },
     "output_type": "display_data"
    }
   ],
   "source": [
    "write.csv(df, 'result.csv', row.names = FALSE)\n",
    "\n",
    "par(pin = c(6,4))\n",
    "plot(clf_,  ylab = 'MSE')"
   ]
  }
 ],
 "metadata": {
  "kernelspec": {
   "display_name": "R",
   "language": "R",
   "name": "ir"
  },
  "language_info": {
   "codemirror_mode": "r",
   "file_extension": ".r",
   "mimetype": "text/x-r-source",
   "name": "R",
   "pygments_lexer": "r",
   "version": "4.2.2"
  }
 },
 "nbformat": 4,
 "nbformat_minor": 5
}
