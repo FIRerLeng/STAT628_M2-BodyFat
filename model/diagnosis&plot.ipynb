{
 "cells": [
  {
   "cell_type": "code",
   "execution_count": 1,
   "id": "451040d1",
   "metadata": {},
   "outputs": [
    {
     "data": {
      "text/html": [
       "<div>\n",
       "<style scoped>\n",
       "    .dataframe tbody tr th:only-of-type {\n",
       "        vertical-align: middle;\n",
       "    }\n",
       "\n",
       "    .dataframe tbody tr th {\n",
       "        vertical-align: top;\n",
       "    }\n",
       "\n",
       "    .dataframe thead th {\n",
       "        text-align: right;\n",
       "    }\n",
       "</style>\n",
       "<table border=\"1\" class=\"dataframe\">\n",
       "  <thead>\n",
       "    <tr style=\"text-align: right;\">\n",
       "      <th></th>\n",
       "      <th>y_true</th>\n",
       "      <th>y_pred</th>\n",
       "      <th>y_pred_new</th>\n",
       "    </tr>\n",
       "  </thead>\n",
       "  <tbody>\n",
       "    <tr>\n",
       "      <th>0</th>\n",
       "      <td>25.8</td>\n",
       "      <td>21.193469</td>\n",
       "      <td>18.812968</td>\n",
       "    </tr>\n",
       "    <tr>\n",
       "      <th>1</th>\n",
       "      <td>19.1</td>\n",
       "      <td>26.006870</td>\n",
       "      <td>25.185983</td>\n",
       "    </tr>\n",
       "    <tr>\n",
       "      <th>2</th>\n",
       "      <td>33.8</td>\n",
       "      <td>20.050668</td>\n",
       "      <td>19.532291</td>\n",
       "    </tr>\n",
       "    <tr>\n",
       "      <th>3</th>\n",
       "      <td>6.8</td>\n",
       "      <td>15.009204</td>\n",
       "      <td>15.202038</td>\n",
       "    </tr>\n",
       "    <tr>\n",
       "      <th>4</th>\n",
       "      <td>19.8</td>\n",
       "      <td>18.823345</td>\n",
       "      <td>17.541071</td>\n",
       "    </tr>\n",
       "  </tbody>\n",
       "</table>\n",
       "</div>"
      ],
      "text/plain": [
       "   y_true     y_pred  y_pred_new\n",
       "0    25.8  21.193469   18.812968\n",
       "1    19.1  26.006870   25.185983\n",
       "2    33.8  20.050668   19.532291\n",
       "3     6.8  15.009204   15.202038\n",
       "4    19.8  18.823345   17.541071"
      ]
     },
     "execution_count": 1,
     "metadata": {},
     "output_type": "execute_result"
    }
   ],
   "source": [
    "from math import sqrt\n",
    "from sklearn.metrics import mean_absolute_error, mean_squared_error, r2_score\n",
    "import pandas as pd\n",
    "import numpy as np\n",
    "import matplotlib.pyplot as plt\n",
    "from scipy import stats\n",
    "from sklearn.linear_model import LinearRegression\n",
    "\n",
    "# results from glmnet\n",
    "df = pd.read_csv('result.csv')\n",
    "df.head()"
   ]
  },
  {
   "cell_type": "markdown",
   "id": "f6b1a9dd",
   "metadata": {},
   "source": [
    "### glmnet results"
   ]
  },
  {
   "cell_type": "code",
   "execution_count": 2,
   "id": "36321f11",
   "metadata": {},
   "outputs": [
    {
     "name": "stdout",
     "output_type": "stream",
     "text": [
      "all features\n",
      "mean_absolute_error: 3.8995510175513357\n",
      "mean_squared_error: 24.155061514191996\n",
      "rmse: 4.9147799049593255\n",
      "r2 score: 0.6050361706371141\n"
     ]
    }
   ],
   "source": [
    "y_true = df['y_true'].tolist()\n",
    "y_pred = df['y_pred'].tolist()\n",
    "y_pred_new = df['y_pred_new'].tolist()\n",
    "\n",
    "print('all features')\n",
    "print(\"mean_absolute_error:\", mean_absolute_error(y_true, y_pred))\n",
    "print(\"mean_squared_error:\", mean_squared_error(y_true, y_pred))\n",
    "print(\"rmse:\", sqrt(mean_squared_error(y_true, y_pred)))\n",
    "print(\"r2 score:\", r2_score(y_true, y_pred))"
   ]
  },
  {
   "cell_type": "code",
   "execution_count": 3,
   "id": "be8c5cd2",
   "metadata": {},
   "outputs": [
    {
     "name": "stdout",
     "output_type": "stream",
     "text": [
      "fewer features\n",
      "mean_absolute_error: 3.861754871306264\n",
      "mean_squared_error: 23.366692297989488\n",
      "rmse: 4.833910663012866\n",
      "r2 score: 0.6179269399030178\n"
     ]
    }
   ],
   "source": [
    "print('fewer features')\n",
    "print(\"mean_absolute_error:\", mean_absolute_error(y_true, y_pred_new))\n",
    "print(\"mean_squared_error:\", mean_squared_error(y_true, y_pred_new))\n",
    "print(\"rmse:\", sqrt(mean_squared_error(y_true, y_pred_new)))\n",
    "print(\"r2 score:\", r2_score(y_true, y_pred_new))"
   ]
  },
  {
   "cell_type": "markdown",
   "id": "b05abbe7",
   "metadata": {},
   "source": [
    "### naive linear regression results"
   ]
  },
  {
   "cell_type": "code",
   "execution_count": 4,
   "id": "4e6bf65a",
   "metadata": {},
   "outputs": [
    {
     "name": "stdout",
     "output_type": "stream",
     "text": [
      "mean_absolute_error: 4.850437940385653\n",
      "mean_squared_error: 38.15628117998013\n",
      "rmse: 6.177077074149239\n",
      "r2 score: 0.3760996667204687\n"
     ]
    }
   ],
   "source": [
    "train = pd.read_csv('Train.csv', index_col = 0)\n",
    "test = pd.read_csv('Test.csv', index_col = 0)\n",
    "\n",
    "\n",
    "baseline = LinearRegression().fit(train.iloc[:, 2:4], train.iloc[:, -1])\n",
    "y_pred1 = baseline.predict(test.iloc[:, 2:4])\n",
    "\n",
    "print(\"mean_absolute_error:\", mean_absolute_error(y_true, y_pred1))\n",
    "print(\"mean_squared_error:\", mean_squared_error(y_true, y_pred1))\n",
    "print(\"rmse:\", sqrt(mean_squared_error(y_true, y_pred1)))\n",
    "print(\"r2 score:\", r2_score(y_true, y_pred1))"
   ]
  },
  {
   "cell_type": "code",
   "execution_count": 5,
   "id": "a801c083",
   "metadata": {},
   "outputs": [
    {
     "data": {
      "text/plain": [
       "array([ 5.7907478 , -2.32955448])"
      ]
     },
     "execution_count": 5,
     "metadata": {},
     "output_type": "execute_result"
    }
   ],
   "source": [
    "baseline.coef_"
   ]
  },
  {
   "cell_type": "markdown",
   "id": "a5a3b839",
   "metadata": {},
   "source": [
    "### Residual Plots"
   ]
  },
  {
   "cell_type": "code",
   "execution_count": 6,
   "id": "5f9c190a",
   "metadata": {},
   "outputs": [
    {
     "data": {
      "text/plain": [
       "[<matplotlib.lines.Line2D at 0x7f6b26a87580>]"
      ]
     },
     "execution_count": 6,
     "metadata": {},
     "output_type": "execute_result"
    },
    {
     "data": {
      "image/png": "[encoded data removed]",
      "text/plain": [
       "<Figure size 432x432 with 1 Axes>"
      ]
     },
     "metadata": {
      "needs_background": "light"
     },
     "output_type": "display_data"
    }
   ],
   "source": [
    "plt.figure(figsize = (6, 6))\n",
    "plt.scatter(y_true, y_pred_new, c = 'blue', alpha = 0.4)\n",
    "plt.xlabel('y_true')\n",
    "plt.ylabel('y_pred')\n",
    "plt.plot([0, max(y_true + y_pred_new)], [0, max(y_true + y_pred_new)], linestyle='--', lw=2, color='y', alpha = 0.4)"
   ]
  },
  {
   "cell_type": "code",
   "execution_count": 7,
   "id": "af2075ac",
   "metadata": {},
   "outputs": [
    {
     "name": "stdout",
     "output_type": "stream",
     "text": [
      "14.267708534740997 -9.103839859635798\n"
     ]
    }
   ],
   "source": [
    "# Residual diagnosis\n",
    "et = [(y_true[i] - y_pred_new[i]) for i in range(len(y_true))]\n",
    "print(max(et), min(et))"
   ]
  },
  {
   "cell_type": "code",
   "execution_count": 8,
   "id": "ec6fabb9",
   "metadata": {},
   "outputs": [
    {
     "data": {
      "text/plain": [
       "Text(0, 0.5, 'e_(t+1)')"
      ]
     },
     "execution_count": 8,
     "metadata": {},
     "output_type": "execute_result"
    },
    {
     "data": {
      "image/png": "[encoded data removed]",
      "text/plain": [
       "<Figure size 432x288 with 1 Axes>"
      ]
     },
     "metadata": {
      "needs_background": "light"
     },
     "output_type": "display_data"
    }
   ],
   "source": [
    "plt.figure(figsize = (6, 4))\n",
    "plt.plot([-10,15],[0,0],'b',linewidth=1)\n",
    "plt.plot([0,0],[-10,15],'b',linewidth=1)\n",
    "et_1 = et[1:]\n",
    "et_0 = et[:-1]\n",
    "plt.scatter(et_0, et_1, marker = '+', color = 'g')\n",
    "plt.xlabel('e_t')\n",
    "plt.ylabel('e_(t+1)')"
   ]
  },
  {
   "cell_type": "code",
   "execution_count": 9,
   "id": "63267fe9",
   "metadata": {},
   "outputs": [
    {
     "data": {
      "text/plain": [
       "((array([-2.21154155, -1.84175131, -1.62365924, -1.46329903, -1.33363779,\n",
       "         -1.22318558, -1.1259265 , -1.03829303, -0.95798431, -0.88342315,\n",
       "         -0.81347686, -0.74730127, -0.68424773, -0.62380483, -0.5655602 ,\n",
       "         -0.50917466, -0.45436405, -0.40088629, -0.34853176, -0.29711609,\n",
       "         -0.24647455, -0.19645772, -0.14692788, -0.09775611, -0.0488197 ,\n",
       "          0.        ,  0.0488197 ,  0.09775611,  0.14692788,  0.19645772,\n",
       "          0.24647455,  0.29711609,  0.34853176,  0.40088629,  0.45436405,\n",
       "          0.50917466,  0.5655602 ,  0.62380483,  0.68424773,  0.74730127,\n",
       "          0.81347686,  0.88342315,  0.95798431,  1.03829303,  1.1259265 ,\n",
       "          1.22318558,  1.33363779,  1.46329903,  1.62365924,  1.84175131,\n",
       "          2.21154155]),\n",
       "  array([-9.10383986, -8.40203846, -8.24452392, -7.07123371, -6.26815646,\n",
       "         -6.08598251, -5.12555865, -4.93876095, -4.89563051, -4.57981309,\n",
       "         -4.22134933, -4.16349603, -3.42142315, -3.37996364, -3.2855165 ,\n",
       "         -3.04674019, -2.30427039, -2.2509202 , -2.02965542, -1.7096553 ,\n",
       "         -1.62097548, -1.36537767, -0.92672612, -0.84565172, -0.49101881,\n",
       "         -0.14641732,  0.12860488,  0.19346949,  0.2862845 ,  0.43610317,\n",
       "          1.79373862,  1.82786395,  1.94342811,  2.15949287,  2.20686607,\n",
       "          2.25892907,  2.3152696 ,  2.59893289,  2.68948686,  3.01270416,\n",
       "          3.18060723,  3.34028791,  4.1761668 ,  5.51360292,  5.87690076,\n",
       "          5.89511908,  6.05338818,  6.98703229,  7.33582543, 10.54698968,\n",
       "         14.26770853])),\n",
       " (4.9565828551727575, -0.05686063388766676, 0.9895446685545561))"
      ]
     },
     "execution_count": 9,
     "metadata": {},
     "output_type": "execute_result"
    },
    {
     "data": {
      "image/png": "[encoded data removed]",
      "text/plain": [
       "<Figure size 432x432 with 1 Axes>"
      ]
     },
     "metadata": {
      "needs_background": "light"
     },
     "output_type": "display_data"
    }
   ],
   "source": [
    "plt.figure(figsize = (6, 6))\n",
    "stats.probplot(et, dist = 'norm', plot = plt)    "
   ]
  }
 ],
 "metadata": {
  "kernelspec": {
   "display_name": "Python 3 (ipykernel)",
   "language": "python",
   "name": "python3"
  },
  "language_info": {
   "codemirror_mode": {
    "name": "ipython",
    "version": 3
   },
   "file_extension": ".py",
   "mimetype": "text/x-python",
   "name": "python",
   "nbconvert_exporter": "python",
   "pygments_lexer": "ipython3",
   "version": "3.10.8"
  }
 },
 "nbformat": 4,
 "nbformat_minor": 5
}
